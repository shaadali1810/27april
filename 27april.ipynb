{
 "cells": [
  {
   "cell_type": "code",
   "execution_count": 1,
   "id": "144a4738-38b6-4e4d-be21-32d5708e008e",
   "metadata": {},
   "outputs": [],
   "source": [
    "#1 The major types of cluster analysis are Centroid Based/ Partition Clustering, Hierarchical Based Clustering, Distribution Based Clustering, Density-Based Clustering, and Fuzzy Based Clustering."
   ]
  },
  {
   "cell_type": "code",
   "execution_count": 2,
   "id": "2780c0e5-43ca-4d36-a0fe-810ec557d735",
   "metadata": {},
   "outputs": [],
   "source": [
    "#2K-Means Clustering is an Unsupervised Learning algorithm, which groups the unlabeled dataset into different clusters. Here K defines the number of pre-defined clusters that need to be created in the process, as if K=2, there will be two clusters, and for K=3, there will be three clusters, and so on."
   ]
  },
  {
   "cell_type": "code",
   "execution_count": 3,
   "id": "97dd4e92-d8e7-4d84-b38a-175fdbc388ae",
   "metadata": {},
   "outputs": [],
   "source": [
    "#3The advantages of using the k-means algorithm for grouping cryptocurrencies are its simplicity and flexibility. However, it suffers from non-deterministic results and varying run times. The advantages of the K-means algorithm for clustering include simplicity, flexibility, and performance in large data sets"
   ]
  },
  {
   "cell_type": "code",
   "execution_count": 4,
   "id": "64c04a65-c237-4816-bd33-d94a964fc026",
   "metadata": {},
   "outputs": [],
   "source": [
    "#4 The optimal number of clusters can be defined as follow:\n",
    "#Compute clustering algorithm (e.g., k-means clustering) for different values of k. ...\n",
    "#For each k, calculate the total within-cluster sum of square (wss).\n",
    "#Plot the curve of wss according to the number of clusters k."
   ]
  },
  {
   "cell_type": "code",
   "execution_count": 5,
   "id": "cb4a5b5f-9e52-4fda-92ad-dc5d206335cf",
   "metadata": {},
   "outputs": [],
   "source": [
    "#5kmeans algorithm is very popular and used in a variety of applications such as market segmentation, document clustering, image segmentation and image compression, etc."
   ]
  },
  {
   "cell_type": "code",
   "execution_count": null,
   "id": "4cbfdba7-2468-4506-b455-74cbaa27c1be",
   "metadata": {},
   "outputs": [],
   "source": [
    "#6"
   ]
  }
 ],
 "metadata": {
  "kernelspec": {
   "display_name": "Python 3 (ipykernel)",
   "language": "python",
   "name": "python3"
  },
  "language_info": {
   "codemirror_mode": {
    "name": "ipython",
    "version": 3
   },
   "file_extension": ".py",
   "mimetype": "text/x-python",
   "name": "python",
   "nbconvert_exporter": "python",
   "pygments_lexer": "ipython3",
   "version": "3.10.8"
  }
 },
 "nbformat": 4,
 "nbformat_minor": 5
}
